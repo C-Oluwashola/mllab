{
  "nbformat": 4,
  "nbformat_minor": 0,
  "metadata": {
    "colab": {
      "provenance": []
    },
    "kernelspec": {
      "name": "python3",
      "display_name": "Python 3"
    },
    "language_info": {
      "name": "python"
    }
  },
  "cells": [
    {
      "cell_type": "markdown",
      "source": [
        "# **Multiple linear regression analysis**"
      ],
      "metadata": {
        "id": "E-FcfRWGonQX"
      }
    },
    {
      "cell_type": "markdown",
      "source": [
        "Regression analysis is used to predict the value of one variable based on the value of another. It is used to identify trends in data and make predictions. The most common type of regression analysis is linear regression, which uses a linear equation to model the relationship between two variables. Multiple linear regression is an extension of linear regression that allows multiple independent variables to predict the value of a dependent variable.\n",
        "It is used to determine how changes in the independent variables affect the value of the dependent variable, and how much of the variation in the dependent variable can be explained by the independent variables.\n"
      ],
      "metadata": {
        "id": "lG9F3YBz_2dk"
      }
    },
    {
      "cell_type": "markdown",
      "source": [
        "**Import/install necessary packages**"
      ],
      "metadata": {
        "id": "81BvffmvB0kK"
      }
    },
    {
      "cell_type": "code",
      "source": [
        "import pandas as pd\n",
        "import numpy as np\n",
        "import statsmodels.api as sm\n",
        "import seaborn as sns"
      ],
      "metadata": {
        "id": "wGG9tinfB2Bp"
      },
      "execution_count": null,
      "outputs": []
    },
    {
      "cell_type": "markdown",
      "source": [
        "**Create a dataframe with five variables**"
      ],
      "metadata": {
        "id": "uts1auywB_8-"
      }
    },
    {
      "cell_type": "code",
      "source": [
        "df = pd.DataFrame({\n",
        "    'age': [24, 27, 33, 29, 22, 35, 31, 26, 28, 37, 25, 30, 32, 34, 21, 23, 36, 39, 38, 20, 40, 19, 42, 41, 18],\n",
        "    'gender': ['male', 'female', 'male', 'female', 'male', 'female', 'male', 'male', 'female', 'female', 'male', 'female', 'female', 'male', 'male', 'female', 'male', 'male', 'female', 'male', 'female', 'female', 'male', 'female', 'female'],\n",
        "    'location': ['urban', 'rural', 'rural', 'urban', 'rural', 'urban', 'urban', 'rural', 'urban', 'rural', 'urban', 'rural', 'rural', 'urban', 'urban', 'rural', 'urban', 'urban', 'rural', 'urban', 'urban', 'rural', 'urban', 'rural', 'rural'],\n",
        "    'past_purchases': [287, 584, 729, 395, 222, 11, 610, 987, 73, 452, 862, 194, 423, 653, 903, 757, 940, 185, 734, 890, 488, 557, 821, 1000, 38],\n",
        "    'amount_spent': [311.5, 614.2, 817.7, 400.1, 167.9, 73.6, 695.1, 1187.4, 44.6, 613.1, 965.4, 239.9, 446.4, 737.7, 1023.8, 807.2, 1026.9, 62.9, 711.6, 928.7, 454.8, 605.3, 935.7, 1211.9, 10.3]\n",
        "})"
      ],
      "metadata": {
        "id": "0S4PuOLxCAf9"
      },
      "execution_count": null,
      "outputs": []
    },
    {
      "cell_type": "markdown",
      "source": [
        "**One-hot encodes the categorical variables ('gender' and 'location')**"
      ],
      "metadata": {
        "id": "xyc2bP9oDF4X"
      }
    },
    {
      "cell_type": "code",
      "source": [
        "df_encoded = pd.get_dummies(df, columns=['gender', 'location'], drop_first=True)"
      ],
      "metadata": {
        "id": "XzQNqMsDDmvq"
      },
      "execution_count": null,
      "outputs": []
    },
    {
      "cell_type": "markdown",
      "source": [
        "**Fit a multiple linear regression model. Also print all the relevant statistics**"
      ],
      "metadata": {
        "id": "gyzvavLSD_RR"
      }
    },
    {
      "cell_type": "code",
      "source": [
        "# Prepare the feature matrix and target variable\n",
        "X = df_encoded.drop(['amount_spent'], axis=1)\n",
        "y = df_encoded['amount_spent']\n",
        "\n",
        "# Add constant to feature matrix\n",
        "X = sm.add_constant(X)\n",
        "\n",
        "# Fit multiple linear regression model\n",
        "model = sm.OLS(y, X).fit()\n",
        "\n",
        "# Print model summary\n",
        "print(model.summary())\n",
        "\n"
      ],
      "metadata": {
        "colab": {
          "base_uri": "https://localhost:8080/"
        },
        "id": "wH9kKOpCpdRX",
        "outputId": "dde1e3d4-3aa8-4234-bed9-f1a4bc17ea44"
      },
      "execution_count": null,
      "outputs": [
        {
          "output_type": "stream",
          "name": "stdout",
          "text": [
            "                            OLS Regression Results                            \n",
            "==============================================================================\n",
            "Dep. Variable:           amount_spent   R-squared:                       0.976\n",
            "Model:                            OLS   Adj. R-squared:                  0.971\n",
            "Method:                 Least Squares   F-statistic:                     199.3\n",
            "Date:                Mon, 27 Feb 2023   Prob (F-statistic):           8.28e-16\n",
            "Time:                        23:01:16   Log-Likelihood:                -136.37\n",
            "No. Observations:                  25   AIC:                             282.7\n",
            "Df Residuals:                      20   BIC:                             288.8\n",
            "Df Model:                           4                                         \n",
            "Covariance Type:            nonrobust                                         \n",
            "==================================================================================\n",
            "                     coef    std err          t      P>|t|      [0.025      0.975]\n",
            "----------------------------------------------------------------------------------\n",
            "const            -50.5432     57.865     -0.873      0.393    -171.247      70.161\n",
            "age                0.7842      1.837      0.427      0.674      -3.047       4.615\n",
            "past_purchases     1.1661      0.047     24.962      0.000       1.069       1.264\n",
            "gender_male       -6.0949     32.249     -0.189      0.852     -73.366      61.176\n",
            "location_urban   -18.8263     29.931     -0.629      0.536     -81.261      43.609\n",
            "==============================================================================\n",
            "Omnibus:                        0.277   Durbin-Watson:                   1.223\n",
            "Prob(Omnibus):                  0.871   Jarque-Bera (JB):                0.180\n",
            "Skew:                          -0.183   Prob(JB):                        0.914\n",
            "Kurtosis:                       2.802   Cond. No.                     2.90e+03\n",
            "==============================================================================\n",
            "\n",
            "Notes:\n",
            "[1] Standard Errors assume that the covariance matrix of the errors is correctly specified.\n",
            "[2] The condition number is large, 2.9e+03. This might indicate that there are\n",
            "strong multicollinearity or other numerical problems.\n"
          ]
        },
        {
          "output_type": "stream",
          "name": "stderr",
          "text": [
            "/usr/local/lib/python3.8/dist-packages/statsmodels/tsa/tsatools.py:142: FutureWarning: In a future version of pandas all arguments of concat except for the argument 'objs' will be keyword-only\n",
            "  x = pd.concat(x[::order], 1)\n"
          ]
        }
      ]
    },
    {
      "cell_type": "markdown",
      "source": [
        "**Display the error distribution**"
      ],
      "metadata": {
        "id": "7C4Dw0xsEjmj"
      }
    },
    {
      "cell_type": "code",
      "source": [
        "sns.displot(model.resid)"
      ],
      "metadata": {
        "colab": {
          "base_uri": "https://localhost:8080/",
          "height": 386
        },
        "id": "KWfs10IcEkTg",
        "outputId": "cefaa650-91bf-4059-c609-1f06e5e158e6"
      },
      "execution_count": null,
      "outputs": [
        {
          "output_type": "execute_result",
          "data": {
            "text/plain": [
              "<seaborn.axisgrid.FacetGrid at 0x7f1c357d3790>"
            ]
          },
          "metadata": {},
          "execution_count": 12
        },
        {
          "output_type": "display_data",
          "data": {
            "text/plain": [
              "<Figure size 360x360 with 1 Axes>"
            ],
            "image/png": "[encoded data removed]"
          },
          "metadata": {
            "needs_background": "light"
          }
        }
      ]
    },
    {
      "cell_type": "markdown",
      "source": [
        "# **Conclusion**"
      ],
      "metadata": {
        "id": "5ftZ79BQBBvu"
      }
    },
    {
      "cell_type": "markdown",
      "source": [
        "Multiple regression is a type of regression analysis used to predict the value of one variable based on the values of multiple other variables. It is used to identify trends in data and make predictions. The equation of the line of best fit is determined by minimizing the sum of the squared errors.\n"
      ],
      "metadata": {
        "id": "TE0IUk2yAkjH"
      }
    },
    {
      "cell_type": "markdown",
      "source": [
        "# **Exercise**"
      ],
      "metadata": {
        "id": "zx9mvT4bpdE6"
      }
    },
    {
      "cell_type": "markdown",
      "source": [
        "1. Download the data from Github using the link: https://github.com/profvc/mllab/blob/main/BrandEquity_student_copy.xlsx\n",
        "2. Upload the data to your Google Drive.\n",
        "3. Use the following code to access the data from your Google Drive: \n",
        "\n",
        "df = pd.read_excel\n",
        "(\"/content/drive/MyDrive/Colab Notebooks/Data/BrandEquity_student_copy.xlsx\") \n",
        "Note: use your own file path.\n",
        "4. Perform a regression analysis considering OBE as the target variable and using all other 4 variables as features. "
      ],
      "metadata": {
        "id": "xqKiogCR9l_d"
      }
    },
    {
      "cell_type": "markdown",
      "source": [
        "**Note**"
      ],
      "metadata": {
        "id": "Ccy1eCBF9mmG"
      }
    },
    {
      "cell_type": "markdown",
      "source": [
        "Please note that you do not need to import multiple times the same package within a single .ipynb file. Just for your understanding, I am importing the packages multiple times, but this can be avoided in later labs. "
      ],
      "metadata": {
        "id": "K8C2N68g9m8E"
      }
    }
  ]
}