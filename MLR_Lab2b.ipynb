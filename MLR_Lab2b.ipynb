{
  "nbformat": 4,
  "nbformat_minor": 0,
  "metadata": {
    "colab": {
      "provenance": []
    },
    "kernelspec": {
      "name": "python3",
      "display_name": "Python 3"
    },
    "language_info": {
      "name": "python"
    }
  },
  "cells": [
    {
      "cell_type": "markdown",
      "source": [
        "# **Multiple Linear Regression Analysis**"
      ],
      "metadata": {
        "id": "E-FcfRWGonQX"
      }
    },
    {
      "cell_type": "markdown",
      "source": [
        "Regression analysis is used to predict the value of one variable based on the value of another. It is used to identify trends in data and make predictions. The most common type of regression analysis is linear regression, which uses a linear equation to model the relationship between two variables. Multiple linear regression is an extension of linear regression that allows multiple independent variables (features) to predict the value of a dependent variable (target).\n",
        "It is used to determine how changes in the independent variables affect the value of the dependent variable, and how much of the variation in the dependent variable can be explained by the independent variables.\n"
      ],
      "metadata": {
        "id": "lG9F3YBz_2dk"
      }
    },
    {
      "cell_type": "markdown",
      "source": [
        "**Import/install necessary packages**"
      ],
      "metadata": {
        "id": "81BvffmvB0kK"
      }
    },
    {
      "cell_type": "code",
      "source": [
        "import pandas as pd\n",
        "import numpy as np\n",
        "from sklearn.linear_model import LinearRegression\n",
        "from sklearn.model_selection import train_test_split\n",
        "from sklearn.metrics import r2_score, mean_squared_error, mean_absolute_error\n",
        "import seaborn as sns\n",
        "from math import sqrt"
      ],
      "metadata": {
        "id": "wGG9tinfB2Bp"
      },
      "execution_count": null,
      "outputs": []
    },
    {
      "cell_type": "markdown",
      "source": [
        "**Create a dataframe with five variables**"
      ],
      "metadata": {
        "id": "uts1auywB_8-"
      }
    },
    {
      "cell_type": "code",
      "source": [
        "df = pd.DataFrame({\n",
        "    'age': [24, 27, 33, 29, 22, 35, 31, 26, 28, 37, 25, 30, 32, 34, 21, 23, 36, 39, 38, 20, 40, 19, 42, 41, 18],\n",
        "    'gender': ['male', 'female', 'male', 'female', 'male', 'female', 'male', 'male', 'female', 'female', 'male', 'female', 'female', 'male', 'male', 'female', 'male', 'male', 'female', 'male', 'female', 'female', 'male', 'female', 'female'],\n",
        "    'location': ['urban', 'rural', 'rural', 'urban', 'rural', 'urban', 'urban', 'rural', 'urban', 'rural', 'urban', 'rural', 'rural', 'urban', 'urban', 'rural', 'urban', 'urban', 'rural', 'urban', 'urban', 'rural', 'urban', 'rural', 'rural'],\n",
        "    'past_purchases': [287, 584, 729, 395, 222, 11, 610, 987, 73, 452, 862, 194, 423, 653, 903, 757, 940, 185, 734, 890, 488, 557, 821, 1000, 38],\n",
        "    'amount_spent': [311.5, 614.2, 817.7, 400.1, 167.9, 73.6, 695.1, 1187.4, 44.6, 613.1, 965.4, 239.9, 446.4, 737.7, 1023.8, 807.2, 1026.9, 62.9, 711.6, 928.7, 454.8, 605.3, 935.7, 1211.9, 10.3]\n",
        "})"
      ],
      "metadata": {
        "id": "0S4PuOLxCAf9"
      },
      "execution_count": null,
      "outputs": []
    },
    {
      "cell_type": "markdown",
      "source": [
        "**One-hot encodes the categorical variables ('gender' and 'location')**"
      ],
      "metadata": {
        "id": "xyc2bP9oDF4X"
      }
    },
    {
      "cell_type": "code",
      "source": [
        "df = pd.get_dummies(df, columns=['gender', 'location'])"
      ],
      "metadata": {
        "id": "XzQNqMsDDmvq"
      },
      "execution_count": null,
      "outputs": []
    },
    {
      "cell_type": "markdown",
      "source": [
        "**Split data into training and test sets**"
      ],
      "metadata": {
        "id": "JBszWXx2Dt2i"
      }
    },
    {
      "cell_type": "code",
      "source": [
        "X_train, X_test, y_train, y_test = train_test_split(df.drop('amount_spent', axis=1), df['amount_spent'], test_size=0.2, random_state=42)"
      ],
      "metadata": {
        "id": "hxLMQ0dqDuAO"
      },
      "execution_count": null,
      "outputs": []
    },
    {
      "cell_type": "markdown",
      "source": [
        "**Fit a multiple linear regression model and make a prediction based on test data.**"
      ],
      "metadata": {
        "id": "gyzvavLSD_RR"
      }
    },
    {
      "cell_type": "code",
      "source": [
        "# Fit a multiple linear regression model\n",
        "regressor = LinearRegression()\n",
        "regressor.fit(X_train, y_train)\n",
        "\n",
        "# Make predictions on test data\n",
        "y_pred = regressor.predict(X_test)\n",
        "\n",
        "print(\"Intercept: \\n\",regressor.intercept_)\n",
        "print(\"Coefficients: \\n\",regressor.coef_)"
      ],
      "metadata": {
        "colab": {
          "base_uri": "https://localhost:8080/"
        },
        "id": "wH9kKOpCpdRX",
        "outputId": "b36db35e-ab98-4e07-82d6-249a9ef03582"
      },
      "execution_count": null,
      "outputs": [
        {
          "output_type": "stream",
          "name": "stdout",
          "text": [
            "Intercept: \n",
            " -52.31212796365321\n",
            "Coefficients: \n",
            " [ 0.26450567  1.1635094  -0.5599648   0.5599648   5.42000496 -5.42000496]\n"
          ]
        }
      ]
    },
    {
      "cell_type": "markdown",
      "source": [
        "**Print the performance metrics**"
      ],
      "metadata": {
        "id": "ZppM4j7pORY_"
      }
    },
    {
      "cell_type": "code",
      "source": [
        "print('R-squared: {:.3f}'.format(r2_score(y_test, y_pred)))\n",
        "print('MSE: {:.3f}'.format(mean_squared_error(y_test, y_pred)))\n",
        "print('RMSE: {:.3f}'.format(sqrt(mean_squared_error(y_test, y_pred))))\n",
        "print('MAE: {:.3f}'.format(mean_absolute_error(y_test, y_pred)))"
      ],
      "metadata": {
        "colab": {
          "base_uri": "https://localhost:8080/"
        },
        "id": "rut3Hq7UORmQ",
        "outputId": "a1c8bece-0c27-40ae-cf83-887ae28a14e0"
      },
      "execution_count": null,
      "outputs": [
        {
          "output_type": "stream",
          "name": "stdout",
          "text": [
            "R-squared: 0.989\n",
            "MSE: 2278.456\n",
            "RMSE: 47.733\n",
            "MAE: 39.358\n"
          ]
        }
      ]
    },
    {
      "cell_type": "markdown",
      "source": [
        "**Display a Scatter plot between y_pred and y_test**"
      ],
      "metadata": {
        "id": "BTz37u-sKmWL"
      }
    },
    {
      "cell_type": "code",
      "source": [
        "sns.scatterplot(y_test,y_pred)"
      ],
      "metadata": {
        "colab": {
          "base_uri": "https://localhost:8080/",
          "height": 352
        },
        "id": "JYWYq_6UKmm5",
        "outputId": "0c8bb251-8a75-488e-e281-6a5d18346158"
      },
      "execution_count": null,
      "outputs": [
        {
          "output_type": "stream",
          "name": "stderr",
          "text": [
            "/usr/local/lib/python3.8/dist-packages/seaborn/_decorators.py:36: FutureWarning: Pass the following variables as keyword args: x, y. From version 0.12, the only valid positional argument will be `data`, and passing other arguments without an explicit keyword will result in an error or misinterpretation.\n",
            "  warnings.warn(\n"
          ]
        },
        {
          "output_type": "execute_result",
          "data": {
            "text/plain": [
              "<AxesSubplot:xlabel='amount_spent'>"
            ]
          },
          "metadata": {},
          "execution_count": 47
        },
        {
          "output_type": "display_data",
          "data": {
            "text/plain": [
              "<Figure size 432x288 with 1 Axes>"
            ],
            "image/png": "[encoded data removed]"
          },
          "metadata": {
            "needs_background": "light"
          }
        }
      ]
    },
    {
      "cell_type": "markdown",
      "source": [
        "**Display the error distribution**"
      ],
      "metadata": {
        "id": "7C4Dw0xsEjmj"
      }
    },
    {
      "cell_type": "code",
      "source": [
        "error = y_test - y_pred\n",
        "sns.displot(error, kde=True)"
      ],
      "metadata": {
        "colab": {
          "base_uri": "https://localhost:8080/",
          "height": 386
        },
        "id": "KWfs10IcEkTg",
        "outputId": "3aec2487-980c-4723-af90-3fde83a72a3a"
      },
      "execution_count": null,
      "outputs": [
        {
          "output_type": "execute_result",
          "data": {
            "text/plain": [
              "<seaborn.axisgrid.FacetGrid at 0x7f5917ca1be0>"
            ]
          },
          "metadata": {},
          "execution_count": 25
        },
        {
          "output_type": "display_data",
          "data": {
            "text/plain": [
              "<Figure size 360x360 with 1 Axes>"
            ],
            "image/png": "[encoded data removed]"
          },
          "metadata": {
            "needs_background": "light"
          }
        }
      ]
    },
    {
      "cell_type": "markdown",
      "source": [
        "# **Conclusion**"
      ],
      "metadata": {
        "id": "5ftZ79BQBBvu"
      }
    },
    {
      "cell_type": "markdown",
      "source": [
        "Multiple regression is a type of regression analysis used to predict the value of one variable based on the values of multiple other variables. It is used to identify trends in data and make predictions. The equation of the line of best fit is determined by minimising the sum of the squared errors.\n"
      ],
      "metadata": {
        "id": "TE0IUk2yAkjH"
      }
    },
    {
      "cell_type": "markdown",
      "source": [
        "# **Exercise**"
      ],
      "metadata": {
        "id": "zx9mvT4bpdE6"
      }
    },
    {
      "cell_type": "markdown",
      "source": [
        "1. Download the data from Github using the link: https://github.com/profvc/mllab/blob/main/BrandEquity_student_copy.xlsx\n",
        "2. Upload the data to your Google Drive.\n",
        "3. Use the following code to access the data from your Google Drive: \n",
        "\n",
        "df = pd.read_excel\n",
        "(\"/content/drive/MyDrive/Colab Notebooks/Data/BrandEquity_student_copy.xlsx\") \n",
        "Note: use your own file path.\n",
        "4. Perform a regression analysis considering OBE as the target variable and using all other 4 variables as features. "
      ],
      "metadata": {
        "id": "xqKiogCR9l_d"
      }
    }
  ]
}