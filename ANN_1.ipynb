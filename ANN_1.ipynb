{
  "nbformat": 4,
  "nbformat_minor": 0,
  "metadata": {
    "colab": {
      "provenance": []
    },
    "kernelspec": {
      "name": "python3",
      "display_name": "Python 3"
    },
    "language_info": {
      "name": "python"
    }
  },
  "cells": [
    {
      "cell_type": "markdown",
      "source": [
        "**Artificial Neural Networks**"
      ],
      "metadata": {
        "id": "7SqFLzRg5yTc"
      }
    },
    {
      "cell_type": "markdown",
      "source": [
        "An Artificial Neural Network (ANN) is a type of machine learning algorithm that is inspired by the structure and function of the human brain. It consists of multiple layers of interconnected nodes, or \"neurons\", that process and transmit information. By training an ANN on a dataset, it can learn to recognise patterns and make predictions on new data. ANNs are commonly used for tasks such as image recognition, NLP, and predictive modelling. \n",
        "In this lab, you will get exposed to customer loyalty score prediction using ANN. \n",
        "\n",
        "1. Import/install the necessary packages\n",
        "2. Get the data from Google Drive\n",
        "3. Calculate summary statistics for categorical data\n",
        "4. Drop unnecessary features\n",
        "5. Missing Data: Fill missing values with the mean for numerical columns\n",
        "6. Missing Data: Fill missing values with the mode for categorical columns\n",
        "7. Calculate summary statistics for categorical data\n",
        "8. Display a box plot for Customer Age\n",
        "9. Removing Outliers: To remove outliers, use a method like Z-score or IQR to detect and remove the extreme values\n",
        "10. Display the box plot again\n",
        "11. Convert the categorical variables to dummy variables\n",
        "12. Standardisation\n",
        "13. Split the data into training and test sets (80:20)\n",
        "14. Import/install the necessary packages\n",
        "15. Model architecture and creation\n",
        "16. Find the best parameters using grid search\n",
        "17. Fit the model with the best hyperparameters and make predictions using the test set\n",
        "18. Compute Performance Metrics\n",
        "19. Display Feature Importance"
      ],
      "metadata": {
        "id": "n6oCdMEOQIge"
      }
    },
    {
      "cell_type": "markdown",
      "source": [
        "**Import/install the necessary packages**"
      ],
      "metadata": {
        "id": "lhll0gf_FT84"
      }
    },
    {
      "cell_type": "code",
      "execution_count": 23,
      "metadata": {
        "id": "yRf1uypd5rb4"
      },
      "outputs": [],
      "source": [
        "import pandas as pd"
      ]
    },
    {
      "cell_type": "markdown",
      "source": [
        "**Get the data from Google Drive**"
      ],
      "metadata": {
        "id": "4kUm5y606Q-k"
      }
    },
    {
      "cell_type": "code",
      "source": [
        "df = pd.read_csv(\"/content/drive/MyDrive/Colab Notebooks/Data/customer_loyalty_score_data.csv\") \n",
        "print(df.info(),'\\n')\n",
        "print(df.head(),'\\n')\n",
        "print(df.describe(),'\\n')"
      ],
      "metadata": {
        "colab": {
          "base_uri": "https://localhost:8080/"
        },
        "id": "Rs4aOQIM6cSw",
        "outputId": "3c6bfe47-2cd8-433e-c536-3eeb66238ffe"
      },
      "execution_count": 24,
      "outputs": [
        {
          "output_type": "stream",
          "name": "stdout",
          "text": [
            "<class 'pandas.core.frame.DataFrame'>\n",
            "RangeIndex: 1000 entries, 0 to 999\n",
            "Data columns (total 10 columns):\n",
            " #   Column                      Non-Null Count  Dtype  \n",
            "---  ------                      --------------  -----  \n",
            " 0   purchase_frequency          900 non-null    float64\n",
            " 1   avg_order_value             900 non-null    float64\n",
            " 2   customer_satisfaction       900 non-null    float64\n",
            " 3   customer_age                901 non-null    float64\n",
            " 4   customer_gender             900 non-null    object \n",
            " 5   net_promoter_score          900 non-null    float64\n",
            " 6   engagement_level            900 non-null    object \n",
            " 7   loyalty_program_membership  998 non-null    object \n",
            " 8   age_group                   884 non-null    object \n",
            " 9   customer_loyalty_score      1000 non-null   int64  \n",
            "dtypes: float64(5), int64(1), object(4)\n",
            "memory usage: 78.2+ KB\n",
            "None \n",
            "\n",
            "   purchase_frequency  avg_order_value  customer_satisfaction  customer_age  \\\n",
            "0                 1.0             50.0                    4.0          28.0   \n",
            "1                 4.0            125.0                    5.0          48.0   \n",
            "2                 7.0              NaN                    1.0          27.0   \n",
            "3                 5.0             50.0                    1.0          66.0   \n",
            "4                 NaN            125.0                    8.0          65.0   \n",
            "\n",
            "  customer_gender  net_promoter_score engagement_level  \\\n",
            "0          female                 2.0              low   \n",
            "1          female                 0.0             high   \n",
            "2            male                 5.0              low   \n",
            "3          female                 9.0              low   \n",
            "4            male                 1.0              NaN   \n",
            "\n",
            "  loyalty_program_membership age_group  customer_loyalty_score  \n",
            "0                        YES       NaN                      76  \n",
            "1                         NO     46-55                      67  \n",
            "2                        YES     26-35                      80  \n",
            "3                         NO     66-70                      50  \n",
            "4                         NO     56-65                      61   \n",
            "\n",
            "       purchase_frequency  avg_order_value  customer_satisfaction  \\\n",
            "count          900.000000       900.000000             900.000000   \n",
            "mean             5.610000       143.027778               5.400000   \n",
            "std              2.909864        72.242595               2.933069   \n",
            "min              1.000000        25.000000               1.000000   \n",
            "25%              3.000000        75.000000               3.000000   \n",
            "50%              6.000000       150.000000               5.000000   \n",
            "75%              8.000000       200.000000               8.000000   \n",
            "max             10.000000       250.000000              10.000000   \n",
            "\n",
            "       customer_age  net_promoter_score  customer_loyalty_score  \n",
            "count    901.000000          900.000000             1000.000000  \n",
            "mean      43.677026            5.031111               50.990000  \n",
            "std       15.145334            3.130305               20.744644  \n",
            "min       18.000000            0.000000                0.000000  \n",
            "25%       30.000000            2.000000               36.000000  \n",
            "50%       44.000000            5.000000               51.000000  \n",
            "75%       56.000000            8.000000               66.000000  \n",
            "max      102.000000           10.000000              100.000000   \n",
            "\n"
          ]
        }
      ]
    },
    {
      "cell_type": "markdown",
      "source": [
        "**Calculate summary statistics for categorical data**"
      ],
      "metadata": {
        "id": "DR_asBDeGJ39"
      }
    },
    {
      "cell_type": "code",
      "source": [
        "for col in df.select_dtypes(include='object').columns:\n",
        "    print(f\"{col}:\\n{df[col].value_counts()}\\n\")"
      ],
      "metadata": {
        "colab": {
          "base_uri": "https://localhost:8080/"
        },
        "id": "qX_oB93iVqvM",
        "outputId": "b3f0fb2f-840a-4d10-fe81-6e599762e6b1"
      },
      "execution_count": 25,
      "outputs": [
        {
          "output_type": "stream",
          "name": "stdout",
          "text": [
            "customer_gender:\n",
            "male      478\n",
            "female    422\n",
            "Name: customer_gender, dtype: int64\n",
            "\n",
            "engagement_level:\n",
            "low       313\n",
            "high      298\n",
            "medium    289\n",
            "Name: engagement_level, dtype: int64\n",
            "\n",
            "loyalty_program_membership:\n",
            "NO     541\n",
            "YES    457\n",
            "Name: loyalty_program_membership, dtype: int64\n",
            "\n",
            "age_group:\n",
            "46-55    177\n",
            "26-35    172\n",
            "56-65    169\n",
            "36-45    168\n",
            "18-25    134\n",
            "66-70     64\n",
            "Name: age_group, dtype: int64\n",
            "\n"
          ]
        }
      ]
    },
    {
      "cell_type": "markdown",
      "source": [
        "**Drop unnecessary features**"
      ],
      "metadata": {
        "id": "oUurclAR7WRY"
      }
    },
    {
      "cell_type": "code",
      "source": [
        "df.drop('age_group', axis=1, inplace=True)\n",
        "df.info()"
      ],
      "metadata": {
        "colab": {
          "base_uri": "https://localhost:8080/"
        },
        "id": "sA63Qf3K7WYa",
        "outputId": "77ab3aee-0531-4c01-ba75-a7d169435f8f"
      },
      "execution_count": 26,
      "outputs": [
        {
          "output_type": "stream",
          "name": "stdout",
          "text": [
            "<class 'pandas.core.frame.DataFrame'>\n",
            "RangeIndex: 1000 entries, 0 to 999\n",
            "Data columns (total 9 columns):\n",
            " #   Column                      Non-Null Count  Dtype  \n",
            "---  ------                      --------------  -----  \n",
            " 0   purchase_frequency          900 non-null    float64\n",
            " 1   avg_order_value             900 non-null    float64\n",
            " 2   customer_satisfaction       900 non-null    float64\n",
            " 3   customer_age                901 non-null    float64\n",
            " 4   customer_gender             900 non-null    object \n",
            " 5   net_promoter_score          900 non-null    float64\n",
            " 6   engagement_level            900 non-null    object \n",
            " 7   loyalty_program_membership  998 non-null    object \n",
            " 8   customer_loyalty_score      1000 non-null   int64  \n",
            "dtypes: float64(5), int64(1), object(3)\n",
            "memory usage: 70.4+ KB\n"
          ]
        }
      ]
    },
    {
      "cell_type": "markdown",
      "source": [
        "**Missing Data:  Fill missing values with the mean for numerical columns**"
      ],
      "metadata": {
        "id": "ZERUy2OJ9e3T"
      }
    },
    {
      "cell_type": "code",
      "source": [
        "for col in df.select_dtypes(include=['int', 'float']).columns:\n",
        "    df[col].fillna(df[col].mean(), inplace=True)\n",
        "    \n",
        "print(df.describe(),'\\n')"
      ],
      "metadata": {
        "colab": {
          "base_uri": "https://localhost:8080/"
        },
        "id": "Ar6JuVzh-XV5",
        "outputId": "522986f0-ed2e-40ea-b19e-e69d97df0647"
      },
      "execution_count": 27,
      "outputs": [
        {
          "output_type": "stream",
          "name": "stdout",
          "text": [
            "       purchase_frequency  avg_order_value  customer_satisfaction  \\\n",
            "count         1000.000000      1000.000000            1000.000000   \n",
            "mean             5.610000       143.027778               5.400000   \n",
            "std              2.760386        68.531532               2.782399   \n",
            "min              1.000000        25.000000               1.000000   \n",
            "25%              3.000000       100.000000               3.000000   \n",
            "50%              5.610000       143.027778               5.400000   \n",
            "75%              8.000000       200.000000               8.000000   \n",
            "max             10.000000       250.000000              10.000000   \n",
            "\n",
            "       customer_age  net_promoter_score  customer_loyalty_score  \n",
            "count   1000.000000         1000.000000             1000.000000  \n",
            "mean      43.677026            5.031111               50.990000  \n",
            "std       14.375314            2.969503               20.744644  \n",
            "min       18.000000            0.000000                0.000000  \n",
            "25%       32.000000            3.000000               36.000000  \n",
            "50%       43.677026            5.031111               51.000000  \n",
            "75%       55.000000            7.000000               66.000000  \n",
            "max      102.000000           10.000000              100.000000   \n",
            "\n"
          ]
        }
      ]
    },
    {
      "cell_type": "markdown",
      "source": [
        "**Missing Data: Fill missing values with the mode for categorical columns**"
      ],
      "metadata": {
        "id": "pp6I-CdJWATc"
      }
    },
    {
      "cell_type": "code",
      "source": [
        "for col in df.select_dtypes(include='object').columns:\n",
        "    df[col].fillna(df[col].mode()[0], inplace=True)"
      ],
      "metadata": {
        "id": "zbtea3Uc9fAm"
      },
      "execution_count": 28,
      "outputs": []
    },
    {
      "cell_type": "markdown",
      "source": [
        "**Calculate summary statistics for categorical data**"
      ],
      "metadata": {
        "id": "X-cKtMNeVX4d"
      }
    },
    {
      "cell_type": "code",
      "source": [
        "for col in df.select_dtypes(include='object').columns:\n",
        "    print(f\"{col}:\\n{df[col].value_counts()}\\n\")"
      ],
      "metadata": {
        "colab": {
          "base_uri": "https://localhost:8080/"
        },
        "id": "MxHEnELEVX_z",
        "outputId": "36233024-8f00-4d3d-b339-758cbc4a6fd6"
      },
      "execution_count": 29,
      "outputs": [
        {
          "output_type": "stream",
          "name": "stdout",
          "text": [
            "customer_gender:\n",
            "male      578\n",
            "female    422\n",
            "Name: customer_gender, dtype: int64\n",
            "\n",
            "engagement_level:\n",
            "low       413\n",
            "high      298\n",
            "medium    289\n",
            "Name: engagement_level, dtype: int64\n",
            "\n",
            "loyalty_program_membership:\n",
            "NO     543\n",
            "YES    457\n",
            "Name: loyalty_program_membership, dtype: int64\n",
            "\n"
          ]
        }
      ]
    },
    {
      "cell_type": "markdown",
      "source": [
        "**Display a box plot for Customer Age**"
      ],
      "metadata": {
        "id": "ttjlAwijC6Zw"
      }
    },
    {
      "cell_type": "code",
      "source": [
        "import matplotlib.pyplot as plt\n",
        "\n",
        "plt.boxplot(df['customer_age'],vert=False)\n",
        "plt.title('Box plot of customer_age')\n",
        "plt.ylabel('customer_age')\n",
        "plt.show()\n",
        "print(df.customer_age.describe(),'\\n')"
      ],
      "metadata": {
        "colab": {
          "base_uri": "https://localhost:8080/",
          "height": 455
        },
        "id": "08_q_KQCC6hg",
        "outputId": "61a1aa91-fe50-4ee5-9808-c6a6f023c2f3"
      },
      "execution_count": 30,
      "outputs": [
        {
          "output_type": "display_data",
          "data": {
            "text/plain": [
              "<Figure size 432x288 with 1 Axes>"
            ],
            "image/png": "[encoded data removed]"
          },
          "metadata": {
            "needs_background": "light"
          }
        },
        {
          "output_type": "stream",
          "name": "stdout",
          "text": [
            "count    1000.000000\n",
            "mean       43.677026\n",
            "std        14.375314\n",
            "min        18.000000\n",
            "25%        32.000000\n",
            "50%        43.677026\n",
            "75%        55.000000\n",
            "max       102.000000\n",
            "Name: customer_age, dtype: float64 \n",
            "\n"
          ]
        }
      ]
    },
    {
      "cell_type": "markdown",
      "source": [
        "** Removing Outliers:\n",
        "To remove outliers, use a method like Z-score or IQR to detect and remove the extreme values. **"
      ],
      "metadata": {
        "id": "mqiLHUiGCJ7Z"
      }
    },
    {
      "cell_type": "code",
      "source": [
        "from scipy import stats\n",
        "\n",
        "# Calculate Z-score for customer_age column\n",
        "z_scores = stats.zscore(df['customer_age'])\n",
        "plt.boxplot(z_scores,vert=False)\n",
        "\n",
        "# Reatin rows with Z-score greater than -3 or less than +3\n",
        "df = df[(z_scores >= -3) & (z_scores <= 3)]\n"
      ],
      "metadata": {
        "colab": {
          "base_uri": "https://localhost:8080/",
          "height": 265
        },
        "id": "R_RdL3y-CKCl",
        "outputId": "01a74b50-b6cd-4eb5-ca74-a8113f756cd4"
      },
      "execution_count": 31,
      "outputs": [
        {
          "output_type": "display_data",
          "data": {
            "text/plain": [
              "<Figure size 432x288 with 1 Axes>"
            ],
            "image/png": "[encoded data removed]"
          },
          "metadata": {
            "needs_background": "light"
          }
        }
      ]
    },
    {
      "cell_type": "markdown",
      "source": [
        "**Display the box plot again**"
      ],
      "metadata": {
        "id": "vp34UOdbDw7J"
      }
    },
    {
      "cell_type": "code",
      "source": [
        "plt.boxplot(df['customer_age'],vert=False)\n",
        "plt.title('Box plot of customer_age')\n",
        "plt.ylabel('customer_age')\n",
        "plt.show()\n",
        "print(df.customer_age.describe(),'\\n')"
      ],
      "metadata": {
        "colab": {
          "base_uri": "https://localhost:8080/",
          "height": 455
        },
        "id": "No9cFRmDDxBo",
        "outputId": "2b244047-e33e-4290-839c-bbaee3abfaf0"
      },
      "execution_count": 32,
      "outputs": [
        {
          "output_type": "display_data",
          "data": {
            "text/plain": [
              "<Figure size 432x288 with 1 Axes>"
            ],
            "image/png": "[encoded data removed]"
          },
          "metadata": {
            "needs_background": "light"
          }
        },
        {
          "output_type": "stream",
          "name": "stdout",
          "text": [
            "count    997.000000\n",
            "mean      43.511560\n",
            "std       14.075224\n",
            "min       18.000000\n",
            "25%       32.000000\n",
            "50%       43.677026\n",
            "75%       55.000000\n",
            "max       69.000000\n",
            "Name: customer_age, dtype: float64 \n",
            "\n"
          ]
        }
      ]
    },
    {
      "cell_type": "code",
      "source": [
        "print(df.describe(),'\\n')"
      ],
      "metadata": {
        "colab": {
          "base_uri": "https://localhost:8080/"
        },
        "id": "6uY7WklPLd4U",
        "outputId": "3763e277-b2cd-4f07-d532-3d761e27b8db"
      },
      "execution_count": 33,
      "outputs": [
        {
          "output_type": "stream",
          "name": "stdout",
          "text": [
            "       purchase_frequency  avg_order_value  customer_satisfaction  \\\n",
            "count          997.000000       997.000000             997.000000   \n",
            "mean             5.610832       142.988716               5.400201   \n",
            "std              2.759288        68.608531               2.780331   \n",
            "min              1.000000        25.000000               1.000000   \n",
            "25%              3.000000       100.000000               3.000000   \n",
            "50%              5.610000       143.027778               5.400000   \n",
            "75%              8.000000       200.000000               8.000000   \n",
            "max             10.000000       250.000000              10.000000   \n",
            "\n",
            "       customer_age  net_promoter_score  customer_loyalty_score  \n",
            "count    997.000000          997.000000              997.000000  \n",
            "mean      43.511560            5.034214               51.014042  \n",
            "std       14.075224            2.966332               20.764984  \n",
            "min       18.000000            0.000000                0.000000  \n",
            "25%       32.000000            3.000000               36.000000  \n",
            "50%       43.677026            5.031111               51.000000  \n",
            "75%       55.000000            7.000000               66.000000  \n",
            "max       69.000000           10.000000              100.000000   \n",
            "\n"
          ]
        }
      ]
    },
    {
      "cell_type": "markdown",
      "source": [
        "**Convert the categorical variables to dummy variables**"
      ],
      "metadata": {
        "id": "XPnReyqeXGts"
      }
    },
    {
      "cell_type": "code",
      "source": [
        "df = pd.get_dummies(df, drop_first=False)\n",
        "df.info()"
      ],
      "metadata": {
        "colab": {
          "base_uri": "https://localhost:8080/"
        },
        "id": "MAIBKN8lXGzz",
        "outputId": "4c3edea0-abac-42b2-d248-06f0d8b10809"
      },
      "execution_count": 34,
      "outputs": [
        {
          "output_type": "stream",
          "name": "stdout",
          "text": [
            "<class 'pandas.core.frame.DataFrame'>\n",
            "Int64Index: 997 entries, 0 to 996\n",
            "Data columns (total 13 columns):\n",
            " #   Column                          Non-Null Count  Dtype  \n",
            "---  ------                          --------------  -----  \n",
            " 0   purchase_frequency              997 non-null    float64\n",
            " 1   avg_order_value                 997 non-null    float64\n",
            " 2   customer_satisfaction           997 non-null    float64\n",
            " 3   customer_age                    997 non-null    float64\n",
            " 4   net_promoter_score              997 non-null    float64\n",
            " 5   customer_loyalty_score          997 non-null    int64  \n",
            " 6   customer_gender_female          997 non-null    uint8  \n",
            " 7   customer_gender_male            997 non-null    uint8  \n",
            " 8   engagement_level_high           997 non-null    uint8  \n",
            " 9   engagement_level_low            997 non-null    uint8  \n",
            " 10  engagement_level_medium         997 non-null    uint8  \n",
            " 11  loyalty_program_membership_NO   997 non-null    uint8  \n",
            " 12  loyalty_program_membership_YES  997 non-null    uint8  \n",
            "dtypes: float64(5), int64(1), uint8(7)\n",
            "memory usage: 61.3 KB\n"
          ]
        }
      ]
    },
    {
      "cell_type": "code",
      "source": [
        "print(df.columns)"
      ],
      "metadata": {
        "colab": {
          "base_uri": "https://localhost:8080/"
        },
        "id": "x6DK1qdUrq6u",
        "outputId": "42cf96fe-713f-4161-cba4-f748b1355fb5"
      },
      "execution_count": 35,
      "outputs": [
        {
          "output_type": "stream",
          "name": "stdout",
          "text": [
            "Index(['purchase_frequency', 'avg_order_value', 'customer_satisfaction',\n",
            "       'customer_age', 'net_promoter_score', 'customer_loyalty_score',\n",
            "       'customer_gender_female', 'customer_gender_male',\n",
            "       'engagement_level_high', 'engagement_level_low',\n",
            "       'engagement_level_medium', 'loyalty_program_membership_NO',\n",
            "       'loyalty_program_membership_YES'],\n",
            "      dtype='object')\n"
          ]
        }
      ]
    },
    {
      "cell_type": "markdown",
      "source": [
        "**Standardisation**"
      ],
      "metadata": {
        "id": "5lqJVxpQpM8K"
      }
    },
    {
      "cell_type": "code",
      "source": [
        "from sklearn.preprocessing import StandardScaler\n",
        "  \n",
        "# Separate the dummy variables from the numerical variables\n",
        "dummy_cols = df.select_dtypes(include='uint8').columns\n",
        "num_cols = list(set(df.select_dtypes(include=['float64', 'int64']).columns) - set(dummy_cols))\n",
        "\n",
        "# Standardize the numerical variables\n",
        "scaler = StandardScaler()\n",
        "df[num_cols] = scaler.fit_transform(df[num_cols])\n",
        "\n",
        "# Combine the standardized numerical variables with the dummy variables\n",
        "df_std = pd.concat([df[num_cols], df[dummy_cols]], axis=1)\n",
        "\n",
        "print(df_std.head(5),'\\n')\n",
        "print(df_std.describe(),'\\n')"
      ],
      "metadata": {
        "colab": {
          "base_uri": "https://localhost:8080/"
        },
        "id": "lcWsEgV2pNDi",
        "outputId": "91385a1e-6e93-4026-bd59-103563d5b5bb"
      },
      "execution_count": 36,
      "outputs": [
        {
          "output_type": "stream",
          "name": "stdout",
          "text": [
            "   customer_age  customer_loyalty_score  purchase_frequency  \\\n",
            "0     -1.102600                1.203878           -1.671862   \n",
            "1      0.319049                0.770238           -0.584079   \n",
            "2     -1.173683                1.396606            0.503704   \n",
            "3      1.598534               -0.048859           -0.221484   \n",
            "4      1.527452                0.481145           -0.000302   \n",
            "\n",
            "   customer_satisfaction  avg_order_value  net_promoter_score  \\\n",
            "0              -0.503862        -1.356032           -1.023397   \n",
            "1              -0.144012        -0.262325           -1.697969   \n",
            "2              -1.583412         0.000570           -0.011540   \n",
            "3              -1.583412        -1.356032            1.337604   \n",
            "4               0.935538        -0.262325           -1.360683   \n",
            "\n",
            "   customer_gender_female  customer_gender_male  engagement_level_high  \\\n",
            "0                       1                     0                      0   \n",
            "1                       1                     0                      1   \n",
            "2                       0                     1                      0   \n",
            "3                       1                     0                      0   \n",
            "4                       0                     1                      0   \n",
            "\n",
            "   engagement_level_low  engagement_level_medium  \\\n",
            "0                     1                        0   \n",
            "1                     0                        0   \n",
            "2                     1                        0   \n",
            "3                     1                        0   \n",
            "4                     1                        0   \n",
            "\n",
            "   loyalty_program_membership_NO  loyalty_program_membership_YES  \n",
            "0                              0                               1  \n",
            "1                              1                               0  \n",
            "2                              0                               1  \n",
            "3                              1                               0  \n",
            "4                              1                               0   \n",
            "\n",
            "       customer_age  customer_loyalty_score  purchase_frequency  \\\n",
            "count  9.970000e+02            9.970000e+02        9.970000e+02   \n",
            "mean   3.973195e-16           -4.276085e-17       -9.264850e-17   \n",
            "std    1.000502e+00            1.000502e+00        1.000502e+00   \n",
            "min   -1.813425e+00           -2.457967e+00       -1.671862e+00   \n",
            "25%   -8.182703e-01           -7.234091e-01       -9.466729e-01   \n",
            "50%    1.176169e-02           -6.765801e-04       -3.018588e-04   \n",
            "75%    8.166269e-01            7.220559e-01        8.662985e-01   \n",
            "max    1.811782e+00            2.360250e+00        1.591487e+00   \n",
            "\n",
            "       customer_satisfaction  avg_order_value  net_promoter_score  \\\n",
            "count           9.970000e+02     9.970000e+02        9.970000e+02   \n",
            "mean            9.086680e-17    -1.888604e-16       -6.770467e-17   \n",
            "std             1.000502e+00     1.000502e+00        1.000502e+00   \n",
            "min            -1.583412e+00    -1.720601e+00       -1.697969e+00   \n",
            "25%            -8.637120e-01    -6.268942e-01       -6.861115e-01   \n",
            "50%            -7.218654e-05     5.696264e-04       -1.046477e-03   \n",
            "75%             9.355376e-01     8.313820e-01        6.630319e-01   \n",
            "max             1.655237e+00     1.560520e+00        1.674889e+00   \n",
            "\n",
            "       customer_gender_female  customer_gender_male  engagement_level_high  \\\n",
            "count              997.000000            997.000000             997.000000   \n",
            "mean                 0.421264              0.578736               0.296891   \n",
            "std                  0.494010              0.494010               0.457117   \n",
            "min                  0.000000              0.000000               0.000000   \n",
            "25%                  0.000000              0.000000               0.000000   \n",
            "50%                  0.000000              1.000000               0.000000   \n",
            "75%                  1.000000              1.000000               1.000000   \n",
            "max                  1.000000              1.000000               1.000000   \n",
            "\n",
            "       engagement_level_low  engagement_level_medium  \\\n",
            "count            997.000000               997.000000   \n",
            "mean               0.413240                 0.289870   \n",
            "std                0.492662                 0.453929   \n",
            "min                0.000000                 0.000000   \n",
            "25%                0.000000                 0.000000   \n",
            "50%                0.000000                 0.000000   \n",
            "75%                1.000000                 1.000000   \n",
            "max                1.000000                 1.000000   \n",
            "\n",
            "       loyalty_program_membership_NO  loyalty_program_membership_YES  \n",
            "count                     997.000000                      997.000000  \n",
            "mean                        0.543631                        0.456369  \n",
            "std                         0.498343                        0.498343  \n",
            "min                         0.000000                        0.000000  \n",
            "25%                         0.000000                        0.000000  \n",
            "50%                         1.000000                        0.000000  \n",
            "75%                         1.000000                        1.000000  \n",
            "max                         1.000000                        1.000000   \n",
            "\n"
          ]
        }
      ]
    },
    {
      "cell_type": "markdown",
      "source": [
        "**Split the data into training and test sets (80:20)**"
      ],
      "metadata": {
        "id": "VzZ61yzTgrz6"
      }
    },
    {
      "cell_type": "code",
      "source": [
        "from sklearn.model_selection import train_test_split\n",
        "X_train, X_test, y_train, y_test = train_test_split(df_std.drop('customer_loyalty_score', axis=1), df['customer_loyalty_score'], test_size=0.2, random_state=50)"
      ],
      "metadata": {
        "id": "RXL35iQlgr6a"
      },
      "execution_count": 37,
      "outputs": []
    },
    {
      "cell_type": "markdown",
      "source": [
        "**Import/install the necessary packages**"
      ],
      "metadata": {
        "id": "F3OcZMlqw9zw"
      }
    },
    {
      "cell_type": "code",
      "source": [
        "!pip install scikeras\n",
        "import scikeras as sk\n",
        "from sklearn.metrics import mean_squared_error, r2_score\n",
        "from keras.models import Sequential\n",
        "from keras.layers import Dense\n",
        "from keras.callbacks import EarlyStopping\n",
        "from scikeras.wrappers import KerasRegressor\n",
        "from sklearn.model_selection import GridSearchCV"
      ],
      "metadata": {
        "colab": {
          "base_uri": "https://localhost:8080/"
        },
        "id": "PBlU0q0Gw96y",
        "outputId": "1b65471c-b7c9-4723-ef1e-f2d96237f645"
      },
      "execution_count": 38,
      "outputs": [
        {
          "output_type": "stream",
          "name": "stdout",
          "text": [
            "Looking in indexes: https://pypi.org/simple, https://us-python.pkg.dev/colab-wheels/public/simple/\n",
            "Requirement already satisfied: scikeras in /usr/local/lib/python3.9/dist-packages (0.10.0)\n",
            "Requirement already satisfied: scikit-learn>=1.0.0 in /usr/local/lib/python3.9/dist-packages (from scikeras) (1.2.2)\n",
            "Requirement already satisfied: packaging>=0.21 in /usr/local/lib/python3.9/dist-packages (from scikeras) (23.0)\n",
            "Requirement already satisfied: scipy>=1.3.2 in /usr/local/lib/python3.9/dist-packages (from scikit-learn>=1.0.0->scikeras) (1.10.1)\n",
            "Requirement already satisfied: numpy>=1.17.3 in /usr/local/lib/python3.9/dist-packages (from scikit-learn>=1.0.0->scikeras) (1.22.4)\n",
            "Requirement already satisfied: joblib>=1.1.1 in /usr/local/lib/python3.9/dist-packages (from scikit-learn>=1.0.0->scikeras) (1.1.1)\n",
            "Requirement already satisfied: threadpoolctl>=2.0.0 in /usr/local/lib/python3.9/dist-packages (from scikit-learn>=1.0.0->scikeras) (3.1.0)\n"
          ]
        }
      ]
    },
    {
      "cell_type": "markdown",
      "source": [
        "**Model architecture and creation**"
      ],
      "metadata": {
        "id": "9t7N1G1Uxiq7"
      }
    },
    {
      "cell_type": "code",
      "source": [
        "# define model architecture\n",
        "def create_model():\n",
        "    model = Sequential()\n",
        "    model.add(Dense(32, input_dim=X_train.shape[1], activation='relu'))\n",
        "    model.add(Dense(16, activation='relu'))\n",
        "    model.add(Dense(1, activation='linear'))\n",
        "    model.compile(loss='mean_squared_error', optimizer='adam')\n",
        "    return model\n",
        "\n",
        "# create the model\n",
        "model = KerasRegressor(build_fn=create_model, verbose=0)\n",
        "print(model)"
      ],
      "metadata": {
        "colab": {
          "base_uri": "https://localhost:8080/"
        },
        "id": "hejAFOFFxi10",
        "outputId": "d9c04b11-4fb5-4b49-8fce-7777c7cdd4c7"
      },
      "execution_count": 39,
      "outputs": [
        {
          "output_type": "stream",
          "name": "stdout",
          "text": [
            "KerasRegressor(\n",
            "\tmodel=None\n",
            "\tbuild_fn=<function create_model at 0x7fcd01032040>\n",
            "\twarm_start=False\n",
            "\trandom_state=None\n",
            "\toptimizer=rmsprop\n",
            "\tloss=None\n",
            "\tmetrics=None\n",
            "\tbatch_size=None\n",
            "\tvalidation_batch_size=None\n",
            "\tverbose=0\n",
            "\tcallbacks=None\n",
            "\tvalidation_split=0.0\n",
            "\tshuffle=True\n",
            "\trun_eagerly=False\n",
            "\tepochs=1\n",
            ")\n"
          ]
        }
      ]
    },
    {
      "cell_type": "markdown",
      "source": [
        "**Find the best parameters using grid search**"
      ],
      "metadata": {
        "id": "J_ZdneGWx7Yg"
      }
    },
    {
      "cell_type": "code",
      "source": [
        "# define the grid search parameters\n",
        "param_grid = {'batch_size': [32, 64],\n",
        "              'epochs': [50, 100],\n",
        "              'optimizer': ['adam', 'sgd']}\n",
        "\n",
        "# perform grid search to find the best hyperparameters\n",
        "grid = GridSearchCV(estimator=model, param_grid=param_grid, cv=3, n_jobs=-1)\n",
        "grid_result = grid.fit(X_train, y_train)\n",
        " \n",
        "# print the best parameters\n",
        "print(f\"Best Parameters: {grid_result.best_params_}\")"
      ],
      "metadata": {
        "colab": {
          "base_uri": "https://localhost:8080/"
        },
        "id": "lrOoRumcx7fB",
        "outputId": "65ee4ab7-d996-48f4-b116-0a971f40847d"
      },
      "execution_count": 18,
      "outputs": [
        {
          "output_type": "stream",
          "name": "stderr",
          "text": [
            "/usr/local/lib/python3.9/dist-packages/scikeras/wrappers.py:301: UserWarning: ``build_fn`` will be renamed to ``model`` in a future release, at which point use of ``build_fn`` will raise an Error instead.\n",
            "  warnings.warn(\n"
          ]
        },
        {
          "output_type": "stream",
          "name": "stdout",
          "text": [
            "Best Parameters: {'batch_size': 64, 'epochs': 50, 'optimizer': 'sgd'}\n"
          ]
        }
      ]
    },
    {
      "cell_type": "markdown",
      "source": [
        "**Fit the model with the best hyperparameters and make predictions using the test set**"
      ],
      "metadata": {
        "id": "Jtk6zvWtyCHh"
      }
    },
    {
      "cell_type": "code",
      "source": [
        "best_model = grid.best_estimator_\n",
        "best_model.fit(X_train, y_train, epochs=grid_result.best_params_['epochs'], batch_size=grid_result.best_params_['batch_size'], verbose=0, callbacks=[EarlyStopping(patience=10, restore_best_weights=True)])\n",
        "\n",
        "# Y predict on X test set\n",
        "y_pred = best_model.predict(X_test)\n"
      ],
      "metadata": {
        "colab": {
          "base_uri": "https://localhost:8080/"
        },
        "id": "MblB3H3jyCOi",
        "outputId": "4366d41e-ae57-4671-cb50-81310a08575f"
      },
      "execution_count": 19,
      "outputs": [
        {
          "output_type": "stream",
          "name": "stderr",
          "text": [
            "/usr/local/lib/python3.9/dist-packages/scikeras/wrappers.py:301: UserWarning: ``build_fn`` will be renamed to ``model`` in a future release, at which point use of ``build_fn`` will raise an Error instead.\n",
            "  warnings.warn(\n"
          ]
        }
      ]
    },
    {
      "cell_type": "markdown",
      "source": [
        "**Compute Performance Metrics**"
      ],
      "metadata": {
        "id": "7PK70SsiyJQM"
      }
    },
    {
      "cell_type": "code",
      "source": [
        "mse = mean_squared_error(y_test, y_pred)\n",
        "r2 = r2_score(y_test, y_pred)\n",
        "print(f\"Mean Squared Error: {mse}\")\n",
        "print(f\"R-squared: {r2}\")"
      ],
      "metadata": {
        "colab": {
          "base_uri": "https://localhost:8080/"
        },
        "id": "XZ9YTsjvyJYA",
        "outputId": "ba5b572e-b4ad-4b53-9d2b-cd2ab3cf35fd"
      },
      "execution_count": 20,
      "outputs": [
        {
          "output_type": "stream",
          "name": "stdout",
          "text": [
            "Mean Squared Error: 0.2006907061048108\n",
            "R-squared: 0.8095231133744244\n"
          ]
        }
      ]
    },
    {
      "cell_type": "markdown",
      "source": [
        "**Display Feature Importance**"
      ],
      "metadata": {
        "id": "E8JMr7HYyK9Y"
      }
    },
    {
      "cell_type": "code",
      "source": [
        "import numpy as np\n",
        "\n",
        "importance = best_model.predict(X_train, verbose=0)\n",
        "importance = np.squeeze(importance)\n",
        "feature_names = X_train.columns\n",
        "feature_importance = dict(zip(feature_names, importance))\n",
        "sorted_importance = sorted(feature_importance.items(), key=lambda kv: abs(kv[1]), reverse=True)\n",
        "\n",
        "for feature, importance in sorted_importance:\n",
        "    print(f\"{feature}: {abs(importance)}\")\n",
        "\n",
        "importance_values = [abs(kv[1]) for kv in sorted_importance]\n",
        "#print(importance_values)\n",
        "feature_names = [kv[0] for kv in sorted_importance]\n",
        "#print(feature_names)\n",
        "\n",
        "plt.barh(range(len(importance_values)), importance_values, align='center')\n",
        "plt.yticks(range(len(feature_names)), feature_names)\n",
        "plt.xlabel(\"Importance\")\n",
        "plt.ylabel(\"Feature\")\n",
        "plt.title(\"Feature Importance\")\n",
        "plt.show()"
      ],
      "metadata": {
        "colab": {
          "base_uri": "https://localhost:8080/",
          "height": 503
        },
        "id": "qIowtdPvJ1cA",
        "outputId": "aa6b3f9b-7fd6-43f7-b262-4e3d1a566f5a"
      },
      "execution_count": 21,
      "outputs": [
        {
          "output_type": "stream",
          "name": "stdout",
          "text": [
            "customer_satisfaction: 1.4232419729232788\n",
            "engagement_level_low: 1.1542466878890991\n",
            "loyalty_program_membership_YES: 1.1432161331176758\n",
            "customer_gender_male: 1.0735141038894653\n",
            "net_promoter_score: 0.7597382068634033\n",
            "customer_age: 0.715725839138031\n",
            "customer_gender_female: 0.5041688680648804\n",
            "purchase_frequency: 0.43302059173583984\n",
            "avg_order_value: 0.18892186880111694\n",
            "engagement_level_medium: 0.11558667570352554\n",
            "engagement_level_high: 0.04090771824121475\n",
            "loyalty_program_membership_NO: 0.006906136870384216\n"
          ]
        },
        {
          "output_type": "display_data",
          "data": {
            "text/plain": [
              "<Figure size 432x288 with 1 Axes>"
            ],
            "image/png": "[encoded data removed]"
          },
          "metadata": {
            "needs_background": "light"
          }
        }
      ]
    },
    {
      "cell_type": "markdown",
      "source": [
        "**Exercise 1**"
      ],
      "metadata": {
        "id": "ubVq3dIiUUQZ"
      }
    },
    {
      "cell_type": "markdown",
      "source": [
        "Use the following hyperparameter snippet for the tuning:"
      ],
      "metadata": {
        "id": "tvWpNjLSVjY1"
      }
    },
    {
      "cell_type": "code",
      "source": [
        "param_grid = {'batch_size': [32, 64, 128],\n",
        "              'epochs': [50, 100, 150],\n",
        "              'optimizer': ['adam', 'sgd', 'Adamax']}"
      ],
      "metadata": {
        "id": "2eOAglGgUWQX"
      },
      "execution_count": 22,
      "outputs": []
    }
  ]
}